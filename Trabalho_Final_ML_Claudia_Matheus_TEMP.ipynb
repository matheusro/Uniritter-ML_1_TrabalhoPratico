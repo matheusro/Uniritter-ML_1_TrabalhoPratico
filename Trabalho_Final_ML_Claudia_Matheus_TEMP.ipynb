{
 "cells": [
  {
   "cell_type": "code",
   "execution_count": 5,
   "metadata": {},
   "outputs": [],
   "source": [
    "import pandas as pd\n",
    "import matplotlib.pyplot as plt\n",
    "from sklearn.model_selection import cross_val_score \n",
    "pd.set_option('display.max_columns', 100)"
   ]
  },
  {
   "cell_type": "code",
   "execution_count": 6,
   "metadata": {},
   "outputs": [
    {
     "name": "stdout",
     "output_type": "stream",
     "text": [
      "Amostra dos dados:\n",
      "   Elevation  Aspect  Slope  Horizontal_Distance_To_Hydrology  \\\n",
      "0       2596      51      3                               258   \n",
      "1       2804     139      9                               268   \n",
      "2       2785     155     18                               242   \n",
      "3       2595      45      2                               153   \n",
      "4       2579     132      6                               300   \n",
      "\n",
      "   Vertical_Distance_To_Hydrology  Horizontal_Distance_To_Roadways  \\\n",
      "0                               0                              510   \n",
      "1                              65                             3180   \n",
      "2                             118                             3090   \n",
      "3                              -1                              391   \n",
      "4                             -15                               67   \n",
      "\n",
      "   Hillshade_9am  Hillshade_Noon  Hillshade_3pm  \\\n",
      "0            221             232            148   \n",
      "1            234             238            135   \n",
      "2            238             238            122   \n",
      "3            220             234            150   \n",
      "4            230             237            140   \n",
      "\n",
      "   Horizontal_Distance_To_Fire_Points  Wilderness_Area1  Wilderness_Area2  \\\n",
      "0                                6279                 1                 0   \n",
      "1                                6121                 1                 0   \n",
      "2                                6211                 1                 0   \n",
      "3                                6172                 1                 0   \n",
      "4                                6031                 1                 0   \n",
      "\n",
      "   Wilderness_Area3  Wilderness_Area4  Soil_Type1  Soil_Type2  Soil_Type3  \\\n",
      "0                 0                 0           0           0           0   \n",
      "1                 0                 0           0           0           0   \n",
      "2                 0                 0           0           0           0   \n",
      "3                 0                 0           0           0           0   \n",
      "4                 0                 0           0           0           0   \n",
      "\n",
      "   Soil_Type4  Soil_Type5  Soil_Type6  Soil_Type7  Soil_Type8  Soil_Type9  \\\n",
      "0           0           0           0           0           0           0   \n",
      "1           0           0           0           0           0           0   \n",
      "2           0           0           0           0           0           0   \n",
      "3           0           0           0           0           0           0   \n",
      "4           0           0           0           0           0           0   \n",
      "\n",
      "   Soil_Type10  Soil_Type11  Soil_Type12  Soil_Type13  Soil_Type14  \\\n",
      "0            0            0            0            0            0   \n",
      "1            0            0            1            0            0   \n",
      "2            0            0            0            0            0   \n",
      "3            0            0            0            0            0   \n",
      "4            0            0            0            0            0   \n",
      "\n",
      "   Soil_Type15  Soil_Type16  Soil_Type17  Soil_Type18  Soil_Type19  \\\n",
      "0            0            0            0            0            0   \n",
      "1            0            0            0            0            0   \n",
      "2            0            0            0            0            0   \n",
      "3            0            0            0            0            0   \n",
      "4            0            0            0            0            0   \n",
      "\n",
      "   Soil_Type20  Soil_Type21  Soil_Type22  Soil_Type23  Soil_Type24  \\\n",
      "0            0            0            0            0            0   \n",
      "1            0            0            0            0            0   \n",
      "2            0            0            0            0            0   \n",
      "3            0            0            0            0            0   \n",
      "4            0            0            0            0            0   \n",
      "\n",
      "   Soil_Type25  Soil_Type26  Soil_Type27  Soil_Type28  Soil_Type29  \\\n",
      "0            0            0            0            0            1   \n",
      "1            0            0            0            0            0   \n",
      "2            0            0            0            0            0   \n",
      "3            0            0            0            0            1   \n",
      "4            0            0            0            0            1   \n",
      "\n",
      "   Soil_Type30  Soil_Type31  Soil_Type32  Soil_Type33  Soil_Type34  \\\n",
      "0            0            0            0            0            0   \n",
      "1            0            0            0            0            0   \n",
      "2            1            0            0            0            0   \n",
      "3            0            0            0            0            0   \n",
      "4            0            0            0            0            0   \n",
      "\n",
      "   Soil_Type35  Soil_Type36  Soil_Type37  Soil_Type38  Soil_Type39  \\\n",
      "0            0            0            0            0            0   \n",
      "1            0            0            0            0            0   \n",
      "2            0            0            0            0            0   \n",
      "3            0            0            0            0            0   \n",
      "4            0            0            0            0            0   \n",
      "\n",
      "   Soil_Type40  Cover_Type  \n",
      "0            0           5  \n",
      "1            0           2  \n",
      "2            0           2  \n",
      "3            0           5  \n",
      "4            0           2  \n"
     ]
    }
   ],
   "source": [
    "dataset = pd.read_csv('C:/dev/Uniritter_DS/MachineLearning_I/Uniritter-ML_1_TrabalhoPratico/data/dataset.csv', delimiter=',',  low_memory=False)\n",
    "\n",
    "# seta as variaveis que possuem os dados do dataset para o treinamento de todos os modelos\n",
    "X = dataset.drop(['Cover_Type'], axis=1)\n",
    "y = dataset['Cover_Type']\n",
    "\n",
    "# Início da Analise exploratória do dataset\n",
    "print(\"Amostra dos dados:\")\n",
    "print(dataset.head())\n"
   ]
  },
  {
   "cell_type": "code",
   "execution_count": 3,
   "metadata": {},
   "outputs": [
    {
     "name": "stdout",
     "output_type": "stream",
     "text": [
      "Total de Linhas e Colunas:  (581002, 55)\n",
      "Informações estatisticas do Dataset: \n",
      "           Elevation         Aspect          Slope  \\\n",
      "count  581002.000000  581002.000000  581002.000000   \n",
      "mean     2959.371136     155.657158      14.103702   \n",
      "std       279.980764     111.913616       7.488241   \n",
      "min      1859.000000       0.000000       0.000000   \n",
      "25%      2809.000000      58.000000       9.000000   \n",
      "50%      2996.000000     127.000000      13.000000   \n",
      "75%      3163.000000     260.000000      18.000000   \n",
      "max      3858.000000     360.000000      66.000000   \n",
      "\n",
      "       Horizontal_Distance_To_Hydrology  Vertical_Distance_To_Hydrology  \\\n",
      "count                     581002.000000                   581002.000000   \n",
      "mean                         269.429880                       46.419222   \n",
      "std                          212.549971                       58.295524   \n",
      "min                            0.000000                     -173.000000   \n",
      "25%                          108.000000                        7.000000   \n",
      "50%                          218.000000                       30.000000   \n",
      "75%                          384.000000                       69.000000   \n",
      "max                         1397.000000                      601.000000   \n",
      "\n",
      "       Horizontal_Distance_To_Roadways  Hillshade_9am  Hillshade_Noon  \\\n",
      "count                    581002.000000  581002.000000   581002.000000   \n",
      "mean                       2350.165252     212.145838      223.318806   \n",
      "std                        1559.257261      26.769947       19.768789   \n",
      "min                           0.000000       0.000000        0.000000   \n",
      "25%                        1106.000000     198.000000      213.000000   \n",
      "50%                        1997.000000     218.000000      226.000000   \n",
      "75%                        3328.000000     231.000000      237.000000   \n",
      "max                        7117.000000     254.000000      254.000000   \n",
      "\n",
      "       Hillshade_3pm  Horizontal_Distance_To_Fire_Points  Wilderness_Area1  \\\n",
      "count  581002.000000                       581002.000000     581002.000000   \n",
      "mean      142.528609                         1980.292908          0.448869   \n",
      "std        38.274526                         1324.176031          0.497379   \n",
      "min         0.000000                            0.000000          0.000000   \n",
      "25%       119.000000                         1024.000000          0.000000   \n",
      "50%       143.000000                         1710.000000          0.000000   \n",
      "75%       168.000000                         2550.000000          1.000000   \n",
      "max       254.000000                         7173.000000          1.000000   \n",
      "\n",
      "       Wilderness_Area2  Wilderness_Area3  Wilderness_Area4     Soil_Type1  \\\n",
      "count     581002.000000     581002.000000     581002.000000  581002.000000   \n",
      "mean           0.051435          0.436074          0.063621       0.005217   \n",
      "std            0.220884          0.495897          0.244077       0.072039   \n",
      "min            0.000000          0.000000          0.000000       0.000000   \n",
      "25%            0.000000          0.000000          0.000000       0.000000   \n",
      "50%            0.000000          0.000000          0.000000       0.000000   \n",
      "75%            0.000000          1.000000          0.000000       0.000000   \n",
      "max            1.000000          1.000000          1.000000       1.000000   \n",
      "\n",
      "          Soil_Type2     Soil_Type3     Soil_Type4     Soil_Type5  \\\n",
      "count  581002.000000  581002.000000  581002.000000  581002.000000   \n",
      "mean        0.012952       0.008298       0.021336       0.002749   \n",
      "std         0.113067       0.090713       0.144500       0.052356   \n",
      "min         0.000000       0.000000       0.000000       0.000000   \n",
      "25%         0.000000       0.000000       0.000000       0.000000   \n",
      "50%         0.000000       0.000000       0.000000       0.000000   \n",
      "75%         0.000000       0.000000       0.000000       0.000000   \n",
      "max         1.000000       1.000000       1.000000       1.000000   \n",
      "\n",
      "          Soil_Type6     Soil_Type7     Soil_Type8     Soil_Type9  \\\n",
      "count  581002.000000  581002.000000  581002.000000  581002.000000   \n",
      "mean        0.011315       0.000181       0.000308       0.001974   \n",
      "std         0.105768       0.013442       0.017550       0.044388   \n",
      "min         0.000000       0.000000       0.000000       0.000000   \n",
      "25%         0.000000       0.000000       0.000000       0.000000   \n",
      "50%         0.000000       0.000000       0.000000       0.000000   \n",
      "75%         0.000000       0.000000       0.000000       0.000000   \n",
      "max         1.000000       1.000000       1.000000       1.000000   \n",
      "\n",
      "         Soil_Type10    Soil_Type11    Soil_Type12    Soil_Type13  \\\n",
      "count  581002.000000  581002.000000  581002.000000  581002.000000   \n",
      "mean        0.056168       0.021356       0.051585       0.030002   \n",
      "std         0.230247       0.144569       0.221188       0.170592   \n",
      "min         0.000000       0.000000       0.000000       0.000000   \n",
      "25%         0.000000       0.000000       0.000000       0.000000   \n",
      "50%         0.000000       0.000000       0.000000       0.000000   \n",
      "75%         0.000000       0.000000       0.000000       0.000000   \n",
      "max         1.000000       1.000000       1.000000       1.000000   \n",
      "\n",
      "         Soil_Type14    Soil_Type15    Soil_Type16    Soil_Type17  \\\n",
      "count  581002.000000  581002.000000  581002.000000  581002.000000   \n",
      "mean        0.001029       0.000005       0.004897       0.005890   \n",
      "std         0.032066       0.002272       0.069805       0.076519   \n",
      "min         0.000000       0.000000       0.000000       0.000000   \n",
      "25%         0.000000       0.000000       0.000000       0.000000   \n",
      "50%         0.000000       0.000000       0.000000       0.000000   \n",
      "75%         0.000000       0.000000       0.000000       0.000000   \n",
      "max         1.000000       1.000000       1.000000       1.000000   \n",
      "\n",
      "         Soil_Type18    Soil_Type19    Soil_Type20    Soil_Type21  \\\n",
      "count  581002.000000  581002.000000  581002.000000  581002.000000   \n",
      "mean        0.003268       0.006921       0.015936       0.001442   \n",
      "std         0.057077       0.082903       0.125229       0.037951   \n",
      "min         0.000000       0.000000       0.000000       0.000000   \n",
      "25%         0.000000       0.000000       0.000000       0.000000   \n",
      "50%         0.000000       0.000000       0.000000       0.000000   \n",
      "75%         0.000000       0.000000       0.000000       0.000000   \n",
      "max         1.000000       1.000000       1.000000       1.000000   \n",
      "\n",
      "         Soil_Type22    Soil_Type23    Soil_Type24    Soil_Type25  \\\n",
      "count  581002.000000  581002.000000  581002.000000  581002.000000   \n",
      "mean        0.057440       0.099401       0.036623       0.000816   \n",
      "std         0.232682       0.299200       0.187834       0.028551   \n",
      "min         0.000000       0.000000       0.000000       0.000000   \n",
      "25%         0.000000       0.000000       0.000000       0.000000   \n",
      "50%         0.000000       0.000000       0.000000       0.000000   \n",
      "75%         0.000000       0.000000       0.000000       0.000000   \n",
      "max         1.000000       1.000000       1.000000       1.000000   \n",
      "\n",
      "         Soil_Type26    Soil_Type27    Soil_Type28    Soil_Type29  \\\n",
      "count  581002.000000  581002.000000  581002.000000  581002.000000   \n",
      "mean        0.004456       0.001869       0.001628       0.198356   \n",
      "std         0.066605       0.043194       0.040318       0.398762   \n",
      "min         0.000000       0.000000       0.000000       0.000000   \n",
      "25%         0.000000       0.000000       0.000000       0.000000   \n",
      "50%         0.000000       0.000000       0.000000       0.000000   \n",
      "75%         0.000000       0.000000       0.000000       0.000000   \n",
      "max         1.000000       1.000000       1.000000       1.000000   \n",
      "\n",
      "         Soil_Type30    Soil_Type31    Soil_Type32    Soil_Type33  \\\n",
      "count  581002.000000  581002.000000  581002.000000  581002.000000   \n",
      "mean        0.051928       0.044175       0.090394       0.077716   \n",
      "std         0.221881       0.205485       0.286745       0.267724   \n",
      "min         0.000000       0.000000       0.000000       0.000000   \n",
      "25%         0.000000       0.000000       0.000000       0.000000   \n",
      "50%         0.000000       0.000000       0.000000       0.000000   \n",
      "75%         0.000000       0.000000       0.000000       0.000000   \n",
      "max         1.000000       1.000000       1.000000       1.000000   \n",
      "\n",
      "         Soil_Type34    Soil_Type35    Soil_Type36    Soil_Type37  \\\n",
      "count  581002.000000  581002.000000  581002.000000  581002.000000   \n",
      "mean        0.002773       0.003255       0.000205       0.000513   \n",
      "std         0.052584       0.056957       0.014310       0.022642   \n",
      "min         0.000000       0.000000       0.000000       0.000000   \n",
      "25%         0.000000       0.000000       0.000000       0.000000   \n",
      "50%         0.000000       0.000000       0.000000       0.000000   \n",
      "75%         0.000000       0.000000       0.000000       0.000000   \n",
      "max         1.000000       1.000000       1.000000       1.000000   \n",
      "\n",
      "         Soil_Type38    Soil_Type39    Soil_Type40     Cover_Type  \n",
      "count  581002.000000  581002.000000  581002.000000  581002.000000  \n",
      "mean        0.026802       0.023762       0.015060       2.051444  \n",
      "std         0.161504       0.152308       0.121792       1.396483  \n",
      "min         0.000000       0.000000       0.000000       1.000000  \n",
      "25%         0.000000       0.000000       0.000000       1.000000  \n",
      "50%         0.000000       0.000000       0.000000       2.000000  \n",
      "75%         0.000000       0.000000       0.000000       2.000000  \n",
      "max         1.000000       1.000000       1.000000       7.000000  \n"
     ]
    }
   ],
   "source": [
    "shape = dataset.shape\n",
    "print(\"Total de Linhas e Colunas: \", shape)\n",
    "sumario = dataset.describe()\n",
    "print(\"Informações estatisticas do Dataset: \")\n",
    "print(sumario)\n"
   ]
  },
  {
   "cell_type": "code",
   "execution_count": 4,
   "metadata": {},
   "outputs": [
    {
     "name": "stdout",
     "output_type": "stream",
     "text": [
      "Histograma com a distibuicao da classe Cover Type\n"
     ]
    },
    {
     "data": {
      "text/plain": [
       "Text(0, 0.5, 'Frequencia')"
      ]
     },
     "execution_count": 4,
     "metadata": {},
     "output_type": "execute_result"
    },
    {
     "data": {
      "image/png": "[encoded data removed]",
      "text/plain": [
       "<Figure size 432x288 with 1 Axes>"
      ]
     },
     "metadata": {
      "needs_background": "light"
     },
     "output_type": "display_data"
    }
   ],
   "source": [
    "print(\"Histograma com a distibuicao da classe Cover Type\")\n",
    "dataset.Cover_Type.hist()\n",
    "plt.title('Histograma com a distibuicao da classe Cover Type')\n",
    "plt.xlabel('Classe: Cover Type')\n",
    "plt.ylabel('Frequencia')"
   ]
  },
  {
   "cell_type": "code",
   "execution_count": 11,
   "metadata": {},
   "outputs": [
    {
     "name": "stdout",
     "output_type": "stream",
     "text": [
      "Acuracia KNN Com CV: 0.5414039569515248\n"
     ]
    }
   ],
   "source": [
    "# KNN PURO COM CV DE 10 -- SEM TUNAGEM\n",
    "\n",
    "from sklearn.neighbors import KNeighborsClassifier \n",
    "\n",
    "KNN_classifier = KNeighborsClassifier()  \n",
    "KNN_classifier.fit(X, y) \n",
    "\n",
    "knn_cv_score_AC = cross_val_score(KNN_classifier, X, y, cv=10, scoring='accuracy')\n",
    "print(\"Acuracia KNN Com CV:\", knn_cv_score_AC.mean())  "
   ]
  },
  {
   "cell_type": "code",
   "execution_count": 10,
   "metadata": {},
   "outputs": [
    {
     "name": "stdout",
     "output_type": "stream",
     "text": [
      "Acuracia Naive Com CV: 0.4420708082441541\n"
     ]
    }
   ],
   "source": [
    "# NAIVE BAYES PURO COM CV DE 10 -- SEM TUNAGEM\n",
    "\n",
    "from sklearn.naive_bayes import GaussianNB\n",
    "\n",
    "naive = GaussianNB()\n",
    "naive.fit(X, y)\n",
    "\n",
    "naive_cv_score_AC = cross_val_score(naive, X, y, cv=10, scoring='accuracy')\n",
    "print(\"Acuracia Naive Com CV:\", naive_cv_score_AC.mean())  \n"
   ]
  },
  {
   "cell_type": "code",
   "execution_count": 12,
   "metadata": {},
   "outputs": [
    {
     "name": "stdout",
     "output_type": "stream",
     "text": [
      "Acuracia Decision Com CV: 0.5909975308478685\n"
     ]
    }
   ],
   "source": [
    "# DECISION TREE CLASSIFIER PURO COM CV 10 -- SEM TUNAGEM\n",
    "\n",
    "from sklearn.tree import DecisionTreeClassifier \n",
    "\n",
    "Tree_classifier = DecisionTreeClassifier()  \n",
    "Tree_classifier.fit(X, y) \n",
    "\n",
    "scores = cross_val_score(Tree_classifier, X, y, cv=10, scoring='accuracy')\n",
    "print(\"Acuracia Decision Com CV:\",scores.mean()) "
   ]
  },
  {
   "cell_type": "code",
   "execution_count": null,
   "metadata": {},
   "outputs": [
    {
     "name": "stdout",
     "output_type": "stream",
     "text": [
      "Fitting 2 folds for each of 16 candidates, totalling 32 fits\n"
     ]
    },
    {
     "name": "stderr",
     "output_type": "stream",
     "text": [
      "[Parallel(n_jobs=-1)]: Using backend LokyBackend with 4 concurrent workers.\n"
     ]
    }
   ],
   "source": [
    "# GRID SEARCH PARA O KNN\n",
    "\n",
    "from sklearn.model_selection import GridSearchCV\n",
    "\n",
    "grid_params = {'n_neighbors': [3,5,11,19],\n",
    "               'weights': ['uniform','distance'],\n",
    "               'metric': ['euclidean', 'manhattan']\n",
    "               }\n",
    "gs = GridSearchCV(KNeighborsClassifier(),                  \n",
    "                  grid_params,\n",
    "                  verbose=1,\n",
    "                  cv=2,\n",
    "                  n_jobs=-1\n",
    "                  )\n",
    "\n",
    "gs_results = gs.fit(X,y)\n",
    "#gs_results_estimator = gs_results.best_estimator_\n",
    "gs_results_params = gs_results.best_params_\n",
    "\n",
    "\n",
    "#print(\"Best KNN Estimator: {}\".format(gs_results_estimator))\n",
    "print(\"Tuned Best KNN Parameters: {}\".format(gs_results_params))\n",
    "print(\"Best KNN Score is {}\".format(gs_results.best_score_))"
   ]
  },
  {
   "cell_type": "code",
   "execution_count": null,
   "metadata": {},
   "outputs": [],
   "source": [
    "# GRID SEARCH PARA O DECISION TREE\n",
    "\n",
    "grid_params_tree = {\"max_depth\": [3, 5, 10],\n",
    "              \"max_features\": [ 3, 5, 10, 15, 20],\n",
    "              \"min_samples_leaf\": [1, 3],\n",
    "              \"criterion\": [\"gini\", \"entropy\"]\n",
    "              } \n",
    "\n",
    "# Instantiating Decision Tree classifier\n",
    "tree = DecisionTreeClassifier()  \n",
    "\n",
    "tree_cv = GridSearchCV(tree, grid_params_tree, cv = 10, n_jobs=-1)  \n",
    "\n",
    "tree_cv.fit(X, y)  \n",
    "\n",
    "# Print the tuned parameters and score\n",
    "print(\"Tuned Decision Tree Parameters: {}\".format(tree_cv.best_params_))\n",
    "print(\"Best score is {}\".format(tree_cv.best_score_))\n"
   ]
  }
 ],
 "metadata": {
  "kernelspec": {
   "display_name": "Python 3",
   "language": "python",
   "name": "python3"
  },
  "language_info": {
   "codemirror_mode": {
    "name": "ipython",
    "version": 3
   },
   "file_extension": ".py",
   "mimetype": "text/x-python",
   "name": "python",
   "nbconvert_exporter": "python",
   "pygments_lexer": "ipython3",
   "version": "3.7.3"
  }
 },
 "nbformat": 4,
 "nbformat_minor": 2
}
